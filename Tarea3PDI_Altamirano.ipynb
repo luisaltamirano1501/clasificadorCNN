{
 "cells": [
  {
   "cell_type": "markdown",
   "id": "9b56ea85-34b3-4f80-af0a-2d0d8762267f",
   "metadata": {},
   "source": [
    "## Tarea 3 Luis altamirano \n",
    "CNN Imagenes"
   ]
  },
  {
   "cell_type": "markdown",
   "id": "6e872608-858b-4c58-88a0-247900a3ac72",
   "metadata": {},
   "source": [
    "## Librerias:"
   ]
  },
  {
   "cell_type": "code",
   "execution_count": 1,
   "id": "8c4418dc-c05b-4f45-8d3f-235a3c581cd4",
   "metadata": {},
   "outputs": [],
   "source": [
    "import numpy as np\n",
    "import pandas as pd\n",
    "import matplotlib.pyplot as plt\n",
    "from matplotlib.colors import ListedColormap\n",
    "import matplotlib.patches as mpatches\n",
    "import seaborn as sb\n",
    "import os\n",
    "import re\n",
    "\n",
    "#############################################\n",
    "\n",
    "from sklearn.model_selection import train_test_split\n",
    "from sklearn.preprocessing import MinMaxScaler\n",
    "from sklearn.neighbors import KNeighborsClassifier\n",
    "from sklearn.metrics import classification_report\n",
    "from sklearn.metrics import confusion_matrix\n",
    "from sklearn.svm import SVC \n",
    "from sklearn import preprocessing\n",
    "from sklearn.model_selection import cross_val_score\n",
    "from sklearn.model_selection import KFold\n",
    "\n",
    "from sklearn import preprocessing\n",
    "label_encoder = preprocessing.LabelEncoder()\n",
    "\n",
    "################################################\n",
    "\n",
    "import keras\n",
    "from keras.utils import to_categorical\n",
    "from keras.models import Sequential,Input,Model\n",
    "from keras.layers import Dense, Dropout, Flatten\n",
    "from keras.layers import Conv2D, MaxPooling2D\n",
    "from keras.layers.normalization import BatchNormalization\n",
    "from keras.layers.advanced_activations import LeakyReLU\n",
    "from keras.wrappers.scikit_learn import KerasClassifier\n",
    "\n",
    "################################################\n",
    "\n",
    "import cv2\n",
    "from skimage.transform import resize\n",
    "from skimage import io\n",
    "import tensorflow as tf"
   ]
  },
  {
   "cell_type": "markdown",
   "id": "817eff6e-0fea-4990-a869-be0320ac8d78",
   "metadata": {},
   "source": [
    "# LINK DATA SET Y VIDEO DE DEMOSTRACIÓN:\n",
    "\n",
    "### https://drive.google.com/drive/folders/1eAeVcDMAjZSs6eH5CvyzzFrdgTVb0Ka3?usp=sharing\n"
   ]
  },
  {
   "cell_type": "markdown",
   "id": "2cf8be18-4a4d-40ec-96a8-488f729109a5",
   "metadata": {},
   "source": [
    "## 1 - Creación de Data"
   ]
  },
  {
   "cell_type": "markdown",
   "id": "5532dc47-9477-420c-91f2-d3cbaca34e5a",
   "metadata": {},
   "source": [
    "### 1.1 - Importe de imagenes"
   ]
  },
  {
   "cell_type": "code",
   "execution_count": 69,
   "id": "8814f531-c261-4e12-a830-634c18903c70",
   "metadata": {},
   "outputs": [
    {
     "name": "stdout",
     "output_type": "stream",
     "text": [
      "leyendo imagenes de  C:\\Users\\luis\\Tarea3 PDI\\imagenes_figuras\\\n",
      "C:\\Users\\luis\\Tarea3 PDI\\imagenes_figuras\\no_hay_figuras 1\n",
      "C:\\Users\\luis\\Tarea3 PDI\\imagenes_figuras\\triangulo 375\n",
      "Directorios leidos: 2\n",
      "Imagenes en cada directorio [376, 143]\n",
      "suma Total de imagenes en subdirs: 519\n"
     ]
    }
   ],
   "source": [
    "dirname = os.path.join(os.getcwd(), 'imagenes_figuras')\n",
    "imgpath = dirname + os.sep \n",
    " \n",
    "images = []\n",
    "directories = []\n",
    "dircount = []\n",
    "prevRoot=''\n",
    "cant=0\n",
    " \n",
    "print(\"leyendo imagenes de \",imgpath)\n",
    " \n",
    "for root, dirnames, filenames in os.walk(imgpath):\n",
    "    for filename in filenames:\n",
    "        if re.search(\"\\.(jpg|jpeg|png|bmp|tiff)$\", filename):\n",
    "            cant=cant+1\n",
    "            filepath = os.path.join(root, filename)\n",
    "            image0 = plt.imread(filepath)\n",
    "            image=cv2.resize(image0,(21,28),interpolation=cv2.INTER_CUBIC) #escalado 21x28 pixeles\n",
    "            images.append(image)\n",
    "            b = \"Leyendo...\" + str(cant)\n",
    "            print (b, end=\"\\r\")\n",
    "            if prevRoot !=root:\n",
    "                print(root, cant)\n",
    "                prevRoot=root\n",
    "                directories.append(root)\n",
    "                dircount.append(cant)\n",
    "                cant=0\n",
    "dircount.append(cant)\n",
    " \n",
    "dircount = dircount[1:]\n",
    "dircount[0]=dircount[0]+1\n",
    "print('Directorios leidos:',len(directories))\n",
    "print(\"Imagenes en cada directorio\", dircount)\n",
    "print('suma Total de imagenes en subdirs:',sum(dircount))"
   ]
  },
  {
   "cell_type": "markdown",
   "id": "41a10d71-dc41-486e-b2e1-fc0e27582c17",
   "metadata": {},
   "source": [
    "#### Observación:\n",
    "El data tiene un total de 519 imagenes, donde 376 son de imagenes que no contienen figuras y 143 son de triangulos.\n",
    "\n",
    "Se escalan las imagenes a 21x28 pixeles para que no resulte tan pesado el programa."
   ]
  },
  {
   "cell_type": "markdown",
   "id": "a5a4c184-e361-419f-8418-05210353d36e",
   "metadata": {},
   "source": [
    "### 1.2 - Etiquetas"
   ]
  },
  {
   "cell_type": "code",
   "execution_count": 70,
   "id": "6792702d-6271-4cc0-8df5-86742bf061af",
   "metadata": {},
   "outputs": [
    {
     "name": "stdout",
     "output_type": "stream",
     "text": [
      "Cantidad etiquetas creadas:  519\n",
      "0 no_hay_figuras\n",
      "1 triangulo\n",
      "total de etiquetas :  2\n",
      "etiquetas :  [0 1]\n"
     ]
    }
   ],
   "source": [
    "labels=[]\n",
    "indice=0\n",
    "for cantidad in dircount:\n",
    "    for i in range(cantidad):\n",
    "        labels.append(indice)\n",
    "    indice=indice+1\n",
    "print(\"Cantidad etiquetas creadas: \",len(labels))\n",
    "#################################################\n",
    "figuras=[]\n",
    "indice=0\n",
    "for directorio in directories:\n",
    "    name = directorio.split(os.sep)\n",
    "    print(indice , name[len(name)-1])\n",
    "    figuras.append(name[len(name)-1])\n",
    "    indice=indice+1\n",
    "#################################################\n",
    "Y = np.array(labels)\n",
    "X = np.array(images, dtype=np.uint8) #convierto de lista a numpy\n",
    "\n",
    "# Find the unique numbers from the train labels\n",
    "classes = np.unique(Y)\n",
    "nClasses = len(classes)\n",
    "print('total de etiquetas : ', nClasses)\n",
    "print('etiquetas : ', classes)"
   ]
  },
  {
   "cell_type": "markdown",
   "id": "f3435790-a4ad-4a9d-bbd8-a9fa301714c4",
   "metadata": {},
   "source": [
    "### Observación:\n",
    "Se establecen las etiquetas, donde el 0 representa cuando en la imagen no hay ninguna figura y 1 cuando la imagen es de un triangulo."
   ]
  },
  {
   "cell_type": "markdown",
   "id": "1a0162da-2bbe-435a-8c55-0e21351d340b",
   "metadata": {},
   "source": [
    "## 2 - Separación Dataset"
   ]
  },
  {
   "cell_type": "code",
   "execution_count": 71,
   "id": "b70e94a5-33f5-478d-97e2-ba337c32ee0c",
   "metadata": {},
   "outputs": [
    {
     "name": "stdout",
     "output_type": "stream",
     "text": [
      "Training data shape :  (415, 28, 21, 3) (415,)\n",
      "Testing data shape :  (104, 28, 21, 3) (104,)\n",
      "Original label: 1\n",
      "After conversion to one-hot: [0. 1.]\n",
      "(332, 28, 21, 3) (83, 28, 21, 3) (332, 2) (83, 2)\n"
     ]
    }
   ],
   "source": [
    "train_X,test_X,train_Y,test_Y = train_test_split(X,Y,test_size=0.2)\n",
    "print('Training data shape : ', train_X.shape, train_Y.shape)\n",
    "print('Testing data shape : ', test_X.shape, test_Y.shape)\n",
    " \n",
    "train_X = train_X.astype('float32')\n",
    "test_X = test_X.astype('float32')\n",
    "train_X = train_X / 255.\n",
    "test_X = test_X / 255.\n",
    " \n",
    "# Se cambian etiquetas por one-hot encoding\n",
    "train_Y_one_hot = to_categorical(train_Y)\n",
    "test_Y_one_hot = to_categorical(test_Y)\n",
    " \n",
    "# Se imprime las etiquetas originales y la one-hot encoding para notar la diferencia.\n",
    "print('Original label:', train_Y[0])\n",
    "print('After conversion to one-hot:', train_Y_one_hot[0])\n",
    " \n",
    "train_X,valid_X,train_label,valid_label = train_test_split(train_X, train_Y_one_hot, test_size=0.2, random_state=13)\n",
    " \n",
    "print(train_X.shape,valid_X.shape,train_label.shape,valid_label.shape)\n"
   ]
  },
  {
   "cell_type": "markdown",
   "id": "3f1876e1-0da0-49ed-90d3-c284952e276e",
   "metadata": {},
   "source": [
    "### Observación: \n",
    "Se pre procesan los pixeles para que tengan valores de 0 a 1 y se hace que la salida en vez de tener un valor unico, sea una matriz 1x2, esto para que pueda ser procesada por la red neuronal. \n"
   ]
  },
  {
   "cell_type": "markdown",
   "id": "120c83dd-bed8-4208-a965-ce61d5b09668",
   "metadata": {},
   "source": [
    "## 3 - Diseño red neuronal"
   ]
  },
  {
   "cell_type": "code",
   "execution_count": 72,
   "id": "8abefd58-edbb-477a-89b9-719c6b54b9ec",
   "metadata": {},
   "outputs": [],
   "source": [
    "#declaramos variables con los parámetros de configuración de la red\n",
    "INIT_LR = 1e-3 # Valor inicial de learning rate. El valor 1e-3 corresponde con 0.001\n",
    "epochs = 70 # Cantidad de iteraciones completas al conjunto de imagenes de entrenamiento\n",
    "batch_size = 100 # cantidad de imágenes que se toman a la vez en memoria"
   ]
  },
  {
   "cell_type": "code",
   "execution_count": 73,
   "id": "13337554-f67e-44e1-8cef-153760ec397b",
   "metadata": {},
   "outputs": [],
   "source": [
    "model = Sequential()\n",
    "model.add(Conv2D(700, kernel_size=(6, 6),activation='linear',padding='same',strides=(2, 2),input_shape=(21,28,3)))\n",
    "model.add(LeakyReLU(alpha=0.1))\n",
    "model.add(MaxPooling2D((2, 2),padding='same'))\n",
    "model.add(Dropout(0.5))\n",
    " \n",
    "model.add(Flatten())\n",
    "model.add(Dense(32, activation='linear'))\n",
    "model.add(LeakyReLU(alpha=0.1))\n",
    "model.add(Dropout(0.5)) \n",
    "model.add(Dense(nClasses, activation='softmax'))"
   ]
  },
  {
   "cell_type": "markdown",
   "id": "75e77a2d-c759-4a9e-8d98-f78afb51cbbd",
   "metadata": {},
   "source": [
    "### Observación: \n",
    "Se aplican 700 filtros kernel para detectar las caracteristicas de las imagenes de entrenamiento y se aplica maxpooling para reducir la imagen de 21x28 a la mitad. El dropout se aplica para evitar el desvanecimiento de parametros.\n",
    "Con el comando Flatten se aplana la imagen para entrar a la red neuronal densa, se aplica nuevamente Dropout para evitar el desvanecimiento y finalmente una red de salida de solo 2 neuronas por la cantidad de etiquetas que se tienen(sin figuras, triangulo).\n"
   ]
  },
  {
   "cell_type": "code",
   "execution_count": 74,
   "id": "d89c6ee9-90ad-46ca-b0bd-4ba633afaa68",
   "metadata": {},
   "outputs": [
    {
     "name": "stdout",
     "output_type": "stream",
     "text": [
      "Model: \"sequential_7\"\n",
      "_________________________________________________________________\n",
      "Layer (type)                 Output Shape              Param #   \n",
      "=================================================================\n",
      "conv2d_7 (Conv2D)            (None, 11, 14, 700)       76300     \n",
      "_________________________________________________________________\n",
      "leaky_re_lu_14 (LeakyReLU)   (None, 11, 14, 700)       0         \n",
      "_________________________________________________________________\n",
      "max_pooling2d_7 (MaxPooling2 (None, 6, 7, 700)         0         \n",
      "_________________________________________________________________\n",
      "dropout_14 (Dropout)         (None, 6, 7, 700)         0         \n",
      "_________________________________________________________________\n",
      "flatten_7 (Flatten)          (None, 29400)             0         \n",
      "_________________________________________________________________\n",
      "dense_14 (Dense)             (None, 32)                940832    \n",
      "_________________________________________________________________\n",
      "leaky_re_lu_15 (LeakyReLU)   (None, 32)                0         \n",
      "_________________________________________________________________\n",
      "dropout_15 (Dropout)         (None, 32)                0         \n",
      "_________________________________________________________________\n",
      "dense_15 (Dense)             (None, 2)                 66        \n",
      "=================================================================\n",
      "Total params: 1,017,198\n",
      "Trainable params: 1,017,198\n",
      "Non-trainable params: 0\n",
      "_________________________________________________________________\n"
     ]
    }
   ],
   "source": [
    "model.summary()"
   ]
  },
  {
   "cell_type": "markdown",
   "id": "25bd58c6-640b-494f-b303-1c41e14ab9dd",
   "metadata": {},
   "source": [
    "### Observación: \n",
    "La red presenta un total de 1.017.198"
   ]
  },
  {
   "cell_type": "code",
   "execution_count": 75,
   "id": "0dbd6417-f2b5-45b8-a86e-6cb70dcdf193",
   "metadata": {},
   "outputs": [],
   "source": [
    "model.compile(loss=keras.losses.categorical_crossentropy, optimizer=keras.optimizers.Adagrad(lr=INIT_LR, decay=INIT_LR / 100),metrics=['accuracy'])"
   ]
  },
  {
   "cell_type": "code",
   "execution_count": 76,
   "id": "3a0c6ca9-16ad-446b-a5a4-9f418838998e",
   "metadata": {},
   "outputs": [
    {
     "name": "stdout",
     "output_type": "stream",
     "text": [
      "Epoch 1/100\n",
      "WARNING:tensorflow:Model was constructed with shape (None, 21, 28, 3) for input Tensor(\"conv2d_7_input:0\", shape=(None, 21, 28, 3), dtype=float32), but it was called on an input with incompatible shape (None, 28, 21, 3).\n",
      "WARNING:tensorflow:Model was constructed with shape (None, 21, 28, 3) for input Tensor(\"conv2d_7_input:0\", shape=(None, 21, 28, 3), dtype=float32), but it was called on an input with incompatible shape (None, 28, 21, 3).\n",
      "5/5 [==============================] - ETA: 0s - loss: 0.6465 - accuracy: 0.7048WARNING:tensorflow:Model was constructed with shape (None, 21, 28, 3) for input Tensor(\"conv2d_7_input:0\", shape=(None, 21, 28, 3), dtype=float32), but it was called on an input with incompatible shape (None, 28, 21, 3).\n",
      "5/5 [==============================] - 1s 105ms/step - loss: 0.6465 - accuracy: 0.7048 - val_loss: 0.6493 - val_accuracy: 0.6506\n",
      "Epoch 2/100\n",
      "5/5 [==============================] - 0s 79ms/step - loss: 0.5892 - accuracy: 0.7440 - val_loss: 0.6256 - val_accuracy: 0.6506\n",
      "Epoch 3/100\n",
      "5/5 [==============================] - 0s 90ms/step - loss: 0.5706 - accuracy: 0.7440 - val_loss: 0.5949 - val_accuracy: 0.6506\n",
      "Epoch 4/100\n",
      "5/5 [==============================] - 0s 84ms/step - loss: 0.5493 - accuracy: 0.7440 - val_loss: 0.5672 - val_accuracy: 0.6506\n",
      "Epoch 5/100\n",
      "5/5 [==============================] - 0s 82ms/step - loss: 0.4955 - accuracy: 0.7560 - val_loss: 0.5407 - val_accuracy: 0.6506\n",
      "Epoch 6/100\n",
      "5/5 [==============================] - 0s 84ms/step - loss: 0.4786 - accuracy: 0.7651 - val_loss: 0.5159 - val_accuracy: 0.6506\n",
      "Epoch 7/100\n",
      "5/5 [==============================] - 0s 86ms/step - loss: 0.4465 - accuracy: 0.7590 - val_loss: 0.4819 - val_accuracy: 0.6627\n",
      "Epoch 8/100\n",
      "5/5 [==============================] - 0s 82ms/step - loss: 0.4340 - accuracy: 0.8133 - val_loss: 0.4568 - val_accuracy: 0.6988\n",
      "Epoch 9/100\n",
      "5/5 [==============================] - 0s 85ms/step - loss: 0.4194 - accuracy: 0.8102 - val_loss: 0.4262 - val_accuracy: 0.7590\n",
      "Epoch 10/100\n",
      "5/5 [==============================] - 0s 83ms/step - loss: 0.3906 - accuracy: 0.8193 - val_loss: 0.3998 - val_accuracy: 0.8193\n",
      "Epoch 11/100\n",
      "5/5 [==============================] - 0s 84ms/step - loss: 0.3702 - accuracy: 0.8614 - val_loss: 0.3698 - val_accuracy: 0.8795\n",
      "Epoch 12/100\n",
      "5/5 [==============================] - 0s 87ms/step - loss: 0.3531 - accuracy: 0.9006 - val_loss: 0.3469 - val_accuracy: 0.9277\n",
      "Epoch 13/100\n",
      "5/5 [==============================] - 0s 88ms/step - loss: 0.3428 - accuracy: 0.9066 - val_loss: 0.3274 - val_accuracy: 0.9518\n",
      "Epoch 14/100\n",
      "5/5 [==============================] - 0s 84ms/step - loss: 0.3185 - accuracy: 0.9066 - val_loss: 0.3094 - val_accuracy: 0.9518\n",
      "Epoch 15/100\n",
      "5/5 [==============================] - 0s 83ms/step - loss: 0.3037 - accuracy: 0.9096 - val_loss: 0.2877 - val_accuracy: 0.9759\n",
      "Epoch 16/100\n",
      "5/5 [==============================] - 0s 81ms/step - loss: 0.2826 - accuracy: 0.9428 - val_loss: 0.2734 - val_accuracy: 0.9759\n",
      "Epoch 17/100\n",
      "5/5 [==============================] - 0s 84ms/step - loss: 0.2747 - accuracy: 0.9428 - val_loss: 0.2632 - val_accuracy: 0.9759\n",
      "Epoch 18/100\n",
      "5/5 [==============================] - 0s 82ms/step - loss: 0.2513 - accuracy: 0.9518 - val_loss: 0.2418 - val_accuracy: 0.9759\n",
      "Epoch 19/100\n",
      "5/5 [==============================] - 0s 82ms/step - loss: 0.2509 - accuracy: 0.9518 - val_loss: 0.2273 - val_accuracy: 0.9759\n",
      "Epoch 20/100\n",
      "5/5 [==============================] - 0s 83ms/step - loss: 0.2370 - accuracy: 0.9669 - val_loss: 0.2185 - val_accuracy: 0.9759\n",
      "Epoch 21/100\n",
      "5/5 [==============================] - 0s 90ms/step - loss: 0.2177 - accuracy: 0.9639 - val_loss: 0.2029 - val_accuracy: 0.9759\n",
      "Epoch 22/100\n",
      "5/5 [==============================] - 0s 80ms/step - loss: 0.2134 - accuracy: 0.9669 - val_loss: 0.1923 - val_accuracy: 0.9759\n",
      "Epoch 23/100\n",
      "5/5 [==============================] - 0s 81ms/step - loss: 0.2148 - accuracy: 0.9518 - val_loss: 0.1816 - val_accuracy: 0.9759\n",
      "Epoch 24/100\n",
      "5/5 [==============================] - 0s 93ms/step - loss: 0.1924 - accuracy: 0.9759 - val_loss: 0.1716 - val_accuracy: 0.9759\n",
      "Epoch 25/100\n",
      "5/5 [==============================] - 0s 88ms/step - loss: 0.1841 - accuracy: 0.9578 - val_loss: 0.1632 - val_accuracy: 0.9759\n",
      "Epoch 26/100\n",
      "5/5 [==============================] - 0s 88ms/step - loss: 0.1852 - accuracy: 0.9608 - val_loss: 0.1548 - val_accuracy: 0.9759\n",
      "Epoch 27/100\n",
      "5/5 [==============================] - 0s 91ms/step - loss: 0.1575 - accuracy: 0.9849 - val_loss: 0.1461 - val_accuracy: 0.9880\n",
      "Epoch 28/100\n",
      "5/5 [==============================] - 0s 85ms/step - loss: 0.1670 - accuracy: 0.9849 - val_loss: 0.1386 - val_accuracy: 1.0000\n",
      "Epoch 29/100\n",
      "5/5 [==============================] - 0s 84ms/step - loss: 0.1559 - accuracy: 0.9849 - val_loss: 0.1317 - val_accuracy: 1.0000\n",
      "Epoch 30/100\n",
      "5/5 [==============================] - 0s 87ms/step - loss: 0.1702 - accuracy: 0.9639 - val_loss: 0.1248 - val_accuracy: 1.0000\n",
      "Epoch 31/100\n",
      "5/5 [==============================] - 0s 87ms/step - loss: 0.1362 - accuracy: 0.9759 - val_loss: 0.1191 - val_accuracy: 1.0000\n",
      "Epoch 32/100\n",
      "5/5 [==============================] - 0s 91ms/step - loss: 0.1416 - accuracy: 0.9789 - val_loss: 0.1144 - val_accuracy: 1.0000\n",
      "Epoch 33/100\n",
      "5/5 [==============================] - 0s 93ms/step - loss: 0.1431 - accuracy: 0.9849 - val_loss: 0.1098 - val_accuracy: 1.0000\n",
      "Epoch 34/100\n",
      "5/5 [==============================] - 0s 82ms/step - loss: 0.1402 - accuracy: 0.9789 - val_loss: 0.1078 - val_accuracy: 1.0000\n",
      "Epoch 35/100\n",
      "5/5 [==============================] - 0s 84ms/step - loss: 0.1316 - accuracy: 0.9819 - val_loss: 0.1003 - val_accuracy: 1.0000\n",
      "Epoch 36/100\n",
      "5/5 [==============================] - 0s 83ms/step - loss: 0.1282 - accuracy: 0.9819 - val_loss: 0.0971 - val_accuracy: 1.0000\n",
      "Epoch 37/100\n",
      "5/5 [==============================] - 0s 83ms/step - loss: 0.1292 - accuracy: 0.9729 - val_loss: 0.0922 - val_accuracy: 1.0000\n",
      "Epoch 38/100\n",
      "5/5 [==============================] - 0s 83ms/step - loss: 0.1152 - accuracy: 0.9880 - val_loss: 0.0911 - val_accuracy: 1.0000\n",
      "Epoch 39/100\n",
      "5/5 [==============================] - 0s 83ms/step - loss: 0.1189 - accuracy: 0.9880 - val_loss: 0.0872 - val_accuracy: 1.0000\n",
      "Epoch 40/100\n",
      "5/5 [==============================] - 0s 83ms/step - loss: 0.1218 - accuracy: 0.9789 - val_loss: 0.0823 - val_accuracy: 1.0000\n",
      "Epoch 41/100\n",
      "5/5 [==============================] - 0s 84ms/step - loss: 0.1069 - accuracy: 0.9849 - val_loss: 0.0798 - val_accuracy: 1.0000\n",
      "Epoch 42/100\n",
      "5/5 [==============================] - 0s 86ms/step - loss: 0.1210 - accuracy: 0.9789 - val_loss: 0.0783 - val_accuracy: 1.0000\n",
      "Epoch 43/100\n",
      "5/5 [==============================] - 0s 87ms/step - loss: 0.1017 - accuracy: 0.9940 - val_loss: 0.0754 - val_accuracy: 1.0000\n",
      "Epoch 44/100\n",
      "5/5 [==============================] - 0s 80ms/step - loss: 0.1103 - accuracy: 0.9849 - val_loss: 0.0736 - val_accuracy: 1.0000\n",
      "Epoch 45/100\n",
      "5/5 [==============================] - 0s 82ms/step - loss: 0.1024 - accuracy: 0.9880 - val_loss: 0.0707 - val_accuracy: 1.0000\n",
      "Epoch 46/100\n",
      "5/5 [==============================] - 0s 94ms/step - loss: 0.0950 - accuracy: 0.9970 - val_loss: 0.0708 - val_accuracy: 1.0000\n",
      "Epoch 47/100\n",
      "5/5 [==============================] - 0s 85ms/step - loss: 0.1019 - accuracy: 0.9940 - val_loss: 0.0666 - val_accuracy: 1.0000\n",
      "Epoch 48/100\n",
      "5/5 [==============================] - 0s 82ms/step - loss: 0.1032 - accuracy: 0.9849 - val_loss: 0.0646 - val_accuracy: 1.0000\n",
      "Epoch 49/100\n",
      "5/5 [==============================] - 0s 87ms/step - loss: 0.0926 - accuracy: 0.9880 - val_loss: 0.0628 - val_accuracy: 1.0000\n",
      "Epoch 50/100\n",
      "5/5 [==============================] - 0s 84ms/step - loss: 0.0996 - accuracy: 0.9940 - val_loss: 0.0599 - val_accuracy: 1.0000\n",
      "Epoch 51/100\n",
      "5/5 [==============================] - 0s 84ms/step - loss: 0.0920 - accuracy: 0.9849 - val_loss: 0.0580 - val_accuracy: 1.0000\n",
      "Epoch 52/100\n",
      "5/5 [==============================] - 0s 84ms/step - loss: 0.0851 - accuracy: 0.9880 - val_loss: 0.0572 - val_accuracy: 1.0000\n",
      "Epoch 53/100\n",
      "5/5 [==============================] - 0s 87ms/step - loss: 0.0889 - accuracy: 0.9910 - val_loss: 0.0569 - val_accuracy: 1.0000\n",
      "Epoch 54/100\n",
      "5/5 [==============================] - 0s 94ms/step - loss: 0.0906 - accuracy: 0.9880 - val_loss: 0.0549 - val_accuracy: 1.0000\n",
      "Epoch 55/100\n",
      "5/5 [==============================] - 0s 89ms/step - loss: 0.0874 - accuracy: 0.9849 - val_loss: 0.0539 - val_accuracy: 1.0000\n",
      "Epoch 56/100\n",
      "5/5 [==============================] - 0s 90ms/step - loss: 0.0863 - accuracy: 0.9789 - val_loss: 0.0512 - val_accuracy: 1.0000\n",
      "Epoch 57/100\n",
      "5/5 [==============================] - 0s 89ms/step - loss: 0.0809 - accuracy: 0.9910 - val_loss: 0.0515 - val_accuracy: 1.0000\n",
      "Epoch 58/100\n",
      "5/5 [==============================] - 0s 92ms/step - loss: 0.0698 - accuracy: 0.9940 - val_loss: 0.0500 - val_accuracy: 1.0000\n",
      "Epoch 59/100\n",
      "5/5 [==============================] - 0s 85ms/step - loss: 0.0768 - accuracy: 0.9880 - val_loss: 0.0483 - val_accuracy: 1.0000\n",
      "Epoch 60/100\n",
      "5/5 [==============================] - 0s 94ms/step - loss: 0.0796 - accuracy: 0.9910 - val_loss: 0.0484 - val_accuracy: 1.0000\n",
      "Epoch 61/100\n",
      "5/5 [==============================] - 0s 87ms/step - loss: 0.0824 - accuracy: 0.9789 - val_loss: 0.0451 - val_accuracy: 1.0000\n",
      "Epoch 62/100\n",
      "5/5 [==============================] - 0s 85ms/step - loss: 0.0807 - accuracy: 0.9880 - val_loss: 0.0441 - val_accuracy: 1.0000\n",
      "Epoch 63/100\n",
      "5/5 [==============================] - 0s 84ms/step - loss: 0.0801 - accuracy: 0.9940 - val_loss: 0.0430 - val_accuracy: 1.0000\n",
      "Epoch 64/100\n",
      "5/5 [==============================] - 0s 85ms/step - loss: 0.0743 - accuracy: 0.9880 - val_loss: 0.0425 - val_accuracy: 1.0000\n",
      "Epoch 65/100\n",
      "5/5 [==============================] - 0s 83ms/step - loss: 0.0665 - accuracy: 0.9970 - val_loss: 0.0418 - val_accuracy: 1.0000\n",
      "Epoch 66/100\n",
      "5/5 [==============================] - 0s 83ms/step - loss: 0.0654 - accuracy: 0.9940 - val_loss: 0.0413 - val_accuracy: 1.0000\n",
      "Epoch 67/100\n",
      "5/5 [==============================] - 0s 81ms/step - loss: 0.0646 - accuracy: 0.9940 - val_loss: 0.0411 - val_accuracy: 1.0000\n",
      "Epoch 68/100\n",
      "5/5 [==============================] - 0s 82ms/step - loss: 0.0685 - accuracy: 0.9910 - val_loss: 0.0399 - val_accuracy: 1.0000\n",
      "Epoch 69/100\n",
      "5/5 [==============================] - 0s 86ms/step - loss: 0.0662 - accuracy: 0.9880 - val_loss: 0.0383 - val_accuracy: 1.0000\n",
      "Epoch 70/100\n",
      "5/5 [==============================] - 0s 85ms/step - loss: 0.0633 - accuracy: 0.9940 - val_loss: 0.0373 - val_accuracy: 1.0000\n",
      "Epoch 71/100\n",
      "5/5 [==============================] - 0s 88ms/step - loss: 0.0787 - accuracy: 0.9819 - val_loss: 0.0367 - val_accuracy: 1.0000\n",
      "Epoch 72/100\n",
      "5/5 [==============================] - 0s 85ms/step - loss: 0.0615 - accuracy: 0.9970 - val_loss: 0.0361 - val_accuracy: 1.0000\n",
      "Epoch 73/100\n",
      "5/5 [==============================] - 0s 83ms/step - loss: 0.0601 - accuracy: 0.9910 - val_loss: 0.0351 - val_accuracy: 1.0000\n",
      "Epoch 74/100\n",
      "5/5 [==============================] - 0s 87ms/step - loss: 0.0596 - accuracy: 0.9910 - val_loss: 0.0336 - val_accuracy: 1.0000\n",
      "Epoch 75/100\n",
      "5/5 [==============================] - 0s 83ms/step - loss: 0.0753 - accuracy: 0.9910 - val_loss: 0.0335 - val_accuracy: 1.0000\n",
      "Epoch 76/100\n",
      "5/5 [==============================] - 0s 86ms/step - loss: 0.0618 - accuracy: 0.9910 - val_loss: 0.0327 - val_accuracy: 1.0000\n",
      "Epoch 77/100\n",
      "5/5 [==============================] - 0s 98ms/step - loss: 0.0538 - accuracy: 0.9940 - val_loss: 0.0319 - val_accuracy: 1.0000\n",
      "Epoch 78/100\n",
      "5/5 [==============================] - 0s 86ms/step - loss: 0.0573 - accuracy: 0.9940 - val_loss: 0.0328 - val_accuracy: 1.0000\n",
      "Epoch 79/100\n",
      "5/5 [==============================] - 0s 87ms/step - loss: 0.0743 - accuracy: 0.9880 - val_loss: 0.0327 - val_accuracy: 1.0000\n",
      "Epoch 80/100\n",
      "5/5 [==============================] - 0s 82ms/step - loss: 0.0695 - accuracy: 0.9940 - val_loss: 0.0314 - val_accuracy: 1.0000\n",
      "Epoch 81/100\n",
      "5/5 [==============================] - 0s 82ms/step - loss: 0.0566 - accuracy: 0.9970 - val_loss: 0.0319 - val_accuracy: 1.0000\n",
      "Epoch 82/100\n",
      "5/5 [==============================] - 0s 83ms/step - loss: 0.0546 - accuracy: 0.9940 - val_loss: 0.0309 - val_accuracy: 1.0000\n",
      "Epoch 83/100\n",
      "5/5 [==============================] - 0s 85ms/step - loss: 0.0511 - accuracy: 0.9940 - val_loss: 0.0295 - val_accuracy: 1.0000\n",
      "Epoch 84/100\n",
      "5/5 [==============================] - 0s 88ms/step - loss: 0.0515 - accuracy: 0.9970 - val_loss: 0.0290 - val_accuracy: 1.0000\n",
      "Epoch 85/100\n",
      "5/5 [==============================] - 0s 89ms/step - loss: 0.0572 - accuracy: 0.9970 - val_loss: 0.0283 - val_accuracy: 1.0000\n",
      "Epoch 86/100\n",
      "5/5 [==============================] - 0s 99ms/step - loss: 0.0547 - accuracy: 0.9940 - val_loss: 0.0281 - val_accuracy: 1.0000\n",
      "Epoch 87/100\n",
      "5/5 [==============================] - 0s 92ms/step - loss: 0.0648 - accuracy: 0.9910 - val_loss: 0.0270 - val_accuracy: 1.0000\n",
      "Epoch 88/100\n",
      "5/5 [==============================] - 0s 86ms/step - loss: 0.0697 - accuracy: 0.9880 - val_loss: 0.0261 - val_accuracy: 1.0000\n",
      "Epoch 89/100\n",
      "5/5 [==============================] - 0s 88ms/step - loss: 0.0566 - accuracy: 0.9880 - val_loss: 0.0256 - val_accuracy: 1.0000\n",
      "Epoch 90/100\n",
      "5/5 [==============================] - 0s 84ms/step - loss: 0.0558 - accuracy: 0.9910 - val_loss: 0.0249 - val_accuracy: 1.0000\n",
      "Epoch 91/100\n",
      "5/5 [==============================] - 0s 83ms/step - loss: 0.0565 - accuracy: 0.9970 - val_loss: 0.0248 - val_accuracy: 1.0000\n",
      "Epoch 92/100\n",
      "5/5 [==============================] - 0s 83ms/step - loss: 0.0474 - accuracy: 0.9940 - val_loss: 0.0241 - val_accuracy: 1.0000\n",
      "Epoch 93/100\n",
      "5/5 [==============================] - 0s 85ms/step - loss: 0.0459 - accuracy: 0.9940 - val_loss: 0.0237 - val_accuracy: 1.0000\n",
      "Epoch 94/100\n",
      "5/5 [==============================] - 0s 86ms/step - loss: 0.0592 - accuracy: 0.9880 - val_loss: 0.0234 - val_accuracy: 1.0000\n",
      "Epoch 95/100\n",
      "5/5 [==============================] - 0s 92ms/step - loss: 0.0605 - accuracy: 0.9940 - val_loss: 0.0231 - val_accuracy: 1.0000\n",
      "Epoch 96/100\n",
      "5/5 [==============================] - 0s 85ms/step - loss: 0.0492 - accuracy: 0.9970 - val_loss: 0.0229 - val_accuracy: 1.0000\n",
      "Epoch 97/100\n",
      "5/5 [==============================] - 0s 82ms/step - loss: 0.0531 - accuracy: 0.9910 - val_loss: 0.0234 - val_accuracy: 1.0000\n",
      "Epoch 98/100\n",
      "5/5 [==============================] - 0s 82ms/step - loss: 0.0515 - accuracy: 0.9940 - val_loss: 0.0232 - val_accuracy: 1.0000\n",
      "Epoch 99/100\n",
      "5/5 [==============================] - 0s 84ms/step - loss: 0.0476 - accuracy: 0.9940 - val_loss: 0.0226 - val_accuracy: 1.0000\n",
      "Epoch 100/100\n",
      "5/5 [==============================] - 0s 94ms/step - loss: 0.0526 - accuracy: 0.9910 - val_loss: 0.0221 - val_accuracy: 1.0000\n"
     ]
    }
   ],
   "source": [
    "#Se entrena el modelo\n",
    "Hist = model.fit(train_X, train_label, \n",
    "                      epochs, batch_size,\n",
    "                     validation_data=(valid_X, valid_label))"
   ]
  },
  {
   "cell_type": "markdown",
   "id": "7c523220-dd50-4542-af67-aa30655ab68c",
   "metadata": {},
   "source": [
    "## 4 - Desempeño"
   ]
  },
  {
   "cell_type": "markdown",
   "id": "6080cb86-c2d2-4a29-ae35-c10deac20e88",
   "metadata": {},
   "source": [
    "### 4.1 - Desempeño General"
   ]
  },
  {
   "cell_type": "code",
   "execution_count": 77,
   "id": "7fafc65a-ebd8-4eb4-8018-ef681743629d",
   "metadata": {},
   "outputs": [
    {
     "name": "stdout",
     "output_type": "stream",
     "text": [
      "4/4 - 0s - loss: 0.0182 - accuracy: 1.0000\n",
      "11/11 - 0s - loss: 0.0293 - accuracy: 0.9970\n",
      "INFO:tensorflow:Assets written to: modelo_figuras.h5py\\assets\n"
     ]
    }
   ],
   "source": [
    "test_eval= model.evaluate(test_X, test_Y_one_hot, verbose=2)\n",
    "train_eval= model.evaluate(train_X, train_label, verbose=2)\n",
    "#se guarda modelo\n",
    "model.save(\"modelo_figuras.h5py\")"
   ]
  },
  {
   "cell_type": "code",
   "execution_count": 84,
   "id": "e0474771-8621-472f-8797-57cab75a1ac8",
   "metadata": {},
   "outputs": [
    {
     "name": "stdout",
     "output_type": "stream",
     "text": [
      "Perdida Test: 1.8231676891446114 %\n",
      "Presición datos Test: 100.0 %\n",
      "Perdida entrenamiento: 2.9318097978830338 %\n",
      "Presición datos Entrenamiento: 99.69879388809204 %\n"
     ]
    }
   ],
   "source": [
    "#se carga modelo\n",
    "model=keras.models.load_model('modelo_figuras.h5py')\n",
    "\n",
    "print('Perdida Test:',test_eval[0]*100,'%')\n",
    "print('Presición datos Test:',test_eval[1]*100,'%')\n",
    "print('Perdida entrenamiento:',train_eval[0]*100,'%')\n",
    "print('Presición datos Entrenamiento:',train_eval[1]*100,'%')"
   ]
  },
  {
   "cell_type": "markdown",
   "id": "8fc9b4b8-ea95-47ce-84e3-905ea1056a4d",
   "metadata": {},
   "source": [
    "### Observación: \n",
    "Se presenta una presición del 100% en los datos de Test."
   ]
  },
  {
   "cell_type": "markdown",
   "id": "4f83717e-62fd-4e31-a7d5-826be82645d8",
   "metadata": {},
   "source": [
    "### 4.2 - Curva de entrenamiento vs perdida en entrenamiento"
   ]
  },
  {
   "cell_type": "code",
   "execution_count": 79,
   "id": "0a6a8290-39c4-4962-87b8-2feef1945ad2",
   "metadata": {},
   "outputs": [
    {
     "data": {
      "image/png": "[encoded data removed]",
      "text/plain": [
       "<Figure size 432x288 with 1 Axes>"
      ]
     },
     "metadata": {
      "needs_background": "light"
     },
     "output_type": "display_data"
    },
    {
     "data": {
      "image/png": "[encoded data removed]",
      "text/plain": [
       "<Figure size 432x288 with 1 Axes>"
      ]
     },
     "metadata": {
      "needs_background": "light"
     },
     "output_type": "display_data"
    }
   ],
   "source": [
    "accuracy = Hist.history['accuracy']\n",
    "val_accuracy =  Hist.history['val_accuracy']\n",
    "loss =  Hist.history['loss']\n",
    "val_loss =  Hist.history['val_loss']\n",
    "epochs = range(len(accuracy))\n",
    "plt.plot(epochs, accuracy, 'bo', label='Training accuracy')\n",
    "plt.plot(epochs, val_accuracy, 'b', label='Validation accuracy')\n",
    "plt.title('Training and validation accuracy')\n",
    "plt.legend()\n",
    "plt.figure()\n",
    "plt.plot(epochs, loss, 'bo', label='Training loss')\n",
    "plt.plot(epochs, val_loss, 'b', label='Validation loss')\n",
    "plt.title('Training and validation loss')\n",
    "plt.legend()\n",
    "plt.show()"
   ]
  },
  {
   "cell_type": "markdown",
   "id": "7095f16d-7b03-4878-addd-43dacab940af",
   "metadata": {},
   "source": [
    "## 5 -  Matriz de confusión"
   ]
  },
  {
   "cell_type": "code",
   "execution_count": 80,
   "id": "96634d54-272c-4795-97b1-7048876c2eeb",
   "metadata": {},
   "outputs": [
    {
     "name": "stdout",
     "output_type": "stream",
     "text": [
      "WARNING:tensorflow:Model was constructed with shape (None, 21, 28, 3) for input Tensor(\"conv2d_7_input_1:0\", shape=(None, 21, 28, 3), dtype=float32), but it was called on an input with incompatible shape (None, 28, 21, 3).\n",
      "[[77  0]\n",
      " [ 0 27]]\n",
      "              precision    recall  f1-score   support\n",
      "\n",
      "           0       1.00      1.00      1.00        77\n",
      "           1       1.00      1.00      1.00        27\n",
      "\n",
      "    accuracy                           1.00       104\n",
      "   macro avg       1.00      1.00      1.00       104\n",
      "weighted avg       1.00      1.00      1.00       104\n",
      "\n"
     ]
    }
   ],
   "source": [
    "pred0 = model.predict(test_X)\n",
    "\n",
    "pred=[]\n",
    "test_Y1=[]\n",
    "\n",
    "num=pred0.shape\n",
    "\n",
    "\n",
    "for j in range(0,num[0]):\n",
    "    \n",
    "    # se crea vector predictor(0=no hay figuras, 1= triangulo)\n",
    "    if pred0[j][0]>pred0[j][1]:\n",
    "        a=0\n",
    "        pred.append(a)\n",
    "    else:\n",
    "        a=1\n",
    "        pred.append(a)\n",
    "    \n",
    "    # se crea vector valores test de salida(0=no hay figuras, 1= triangulo)\n",
    "    if test_Y_one_hot[j][0]>test_Y_one_hot[j][1]:\n",
    "        b=0\n",
    "        test_Y1.append(b)\n",
    "    else:\n",
    "        b=1\n",
    "        test_Y1.append(b)\n",
    "\n",
    "## se imprime matriz\n",
    "print(confusion_matrix(test_Y1,pred))\n",
    "print(classification_report(test_Y1,pred))\n",
    "\n"
   ]
  },
  {
   "cell_type": "markdown",
   "id": "821ab172-5e06-4929-a69a-4b45a304dad1",
   "metadata": {},
   "source": [
    "### Observación: \n",
    "Los valores de la matriz de confusión se van al 100% producto de que la presición tiene este valor. Esto no garantiza que el algoritmo tiene razon, ya que la muestra con la que se hizo la prueba es pequeña y con mas datos puede bajar un poco."
   ]
  },
  {
   "cell_type": "markdown",
   "id": "53ff1a49-ffe7-4938-9dd4-c9055d482100",
   "metadata": {},
   "source": [
    "## 6 - Fotos prueba"
   ]
  },
  {
   "cell_type": "markdown",
   "id": "4ecf5897-cd41-4d25-85bc-2c8284ae7bab",
   "metadata": {},
   "source": [
    "### 6.1 - Test Triangulo "
   ]
  },
  {
   "cell_type": "code",
   "execution_count": 85,
   "id": "a1278aad-e786-4900-b9fc-976ee72ab661",
   "metadata": {},
   "outputs": [
    {
     "name": "stdout",
     "output_type": "stream",
     "text": [
      "WARNING:tensorflow:Model was constructed with shape (None, 21, 28, 3) for input Tensor(\"conv2d_7_input_3:0\", shape=(None, 21, 28, 3), dtype=float32), but it was called on an input with incompatible shape (None, 28, 21, 3).\n",
      "Triangulo\n"
     ]
    },
    {
     "data": {
      "text/plain": [
       "<matplotlib.image.AxesImage at 0x1e6877c1820>"
      ]
     },
     "execution_count": 85,
     "metadata": {},
     "output_type": "execute_result"
    },
    {
     "data": {
      "image/png": "[encoded data removed]",
      "text/plain": [
       "<Figure size 432x288 with 1 Axes>"
      ]
     },
     "metadata": {
      "needs_background": "light"
     },
     "output_type": "display_data"
    }
   ],
   "source": [
    "\n",
    "## imagen cuadrado\n",
    "\n",
    "frame=cv2.imread('Test_triangulo.jpg') #lectura imagen1\n",
    "image=[]\n",
    "    \n",
    "##se tranforma imagen para que el modelo CNN lo analice \n",
    "image1=cv2.resize(frame,(21,28),interpolation=cv2.INTER_CUBIC) #escalado 21x28 pixeles\n",
    "image.append(image1)\n",
    "        \n",
    "X0 = np.array(image, dtype=np.uint8)\n",
    "test_X0 = X0.astype('float32')\n",
    "test_X0 = test_X0 / 255.    \n",
    "    \n",
    "##se inserta imagen en modelo\n",
    "foto = model.predict(test_X0) \n",
    "\n",
    "\n",
    " ##si no hay figuras\n",
    "if foto[0][0]>foto[0][1]:\n",
    "        print('no hay figuras') \n",
    "        \n",
    "#si hay un triangulo\n",
    "if foto[0][1]>foto[0][0]:\n",
    "        print('Triangulo')\n",
    "\n",
    "\n",
    "\n",
    "\n",
    "plt.imshow(image1)\n",
    "\n",
    "##apagar camara"
   ]
  },
  {
   "cell_type": "markdown",
   "id": "904a3060-8594-4edb-9e2d-ce692a1ffc8d",
   "metadata": {},
   "source": [
    "### 6.2 - Test sin figuras"
   ]
  },
  {
   "cell_type": "code",
   "execution_count": 86,
   "id": "8f0abb4e-e163-4e6d-9adb-52c20bfbb934",
   "metadata": {},
   "outputs": [
    {
     "name": "stdout",
     "output_type": "stream",
     "text": [
      "no hay figuras\n"
     ]
    },
    {
     "data": {
      "text/plain": [
       "<matplotlib.image.AxesImage at 0x1e680ff04c0>"
      ]
     },
     "execution_count": 86,
     "metadata": {},
     "output_type": "execute_result"
    },
    {
     "data": {
      "image/png": "[encoded data removed]",
      "text/plain": [
       "<Figure size 432x288 with 1 Axes>"
      ]
     },
     "metadata": {
      "needs_background": "light"
     },
     "output_type": "display_data"
    }
   ],
   "source": [
    "## imagen sin figura\n",
    "\n",
    "frame=cv2.imread('Test_cara.jpg') #lectura imagen1\n",
    "image=[]\n",
    "    \n",
    "##se tranforma imagen para que el modelo CNN lo analice \n",
    "image1=cv2.resize(frame,(21,28),interpolation=cv2.INTER_CUBIC) #escalado 21x28 pixeles\n",
    "image.append(image1)\n",
    "        \n",
    "X0 = np.array(image, dtype=np.uint8)\n",
    "test_X0 = X0.astype('float32')\n",
    "test_X0 = test_X0 / 255.    \n",
    "    \n",
    "##se inserta imagen en modelo\n",
    "foto = model.predict(test_X0) \n",
    "\n",
    "\n",
    "##se inserta imagen en modelo\n",
    "foto = model.predict(test_X0) \n",
    "\n",
    "\n",
    " ##si no hay figuras\n",
    "if foto[0][0]>foto[0][1]:\n",
    "        print('no hay figuras') \n",
    "        \n",
    "#si hay un triangulo\n",
    "if foto[0][1]>foto[0][0]:\n",
    "        print('Triangulo')\n",
    "\n",
    "\n",
    "\n",
    "\n",
    "plt.imshow(image1)\n",
    "\n"
   ]
  },
  {
   "cell_type": "markdown",
   "id": "a3d382a7-6a1e-49f6-8902-d2e4e874b6c4",
   "metadata": {},
   "source": [
    "## 7 - Aplicación tiempo real"
   ]
  },
  {
   "cell_type": "code",
   "execution_count": 89,
   "id": "986500aa-6ada-4c14-b917-1e647d8e5504",
   "metadata": {},
   "outputs": [],
   "source": [
    "## capturar camara\n",
    "video =cv2.VideoCapture(0)\n",
    "\n",
    "## ciclo while para capturar los fotogramas continuamente:\n",
    "\n",
    "\n",
    "while True:  \n",
    "    \n",
    "    ## crear frame\n",
    "    check, frame = video.read()\n",
    "    image=[]\n",
    "    \n",
    "    ##se tranforma imagen para que el modelo CNN lo analice \n",
    "    image1=cv2.resize(frame,(21,28),interpolation=cv2.INTER_CUBIC) #escalado 21x28 pixeles\n",
    "    image.append(image1)\n",
    "        \n",
    "    X0 = np.array(image, dtype=np.uint8)\n",
    "    test_X0 = X0.astype('float32')\n",
    "    test_X0 = test_X0 / 255.    \n",
    "    \n",
    "    ##se inserta imagen en modelo\n",
    "    foto = model.predict(test_X0)    \n",
    "    \n",
    "    ##si no hay figuras\n",
    "    if foto[0][0]>foto[0][1]:\n",
    "        cv2.putText(frame, 'NO HAY FIGURAS'.format(100,100),(240,100),cv2.FONT_HERSHEY_SIMPLEX, 0.75,(0,255,0),1,cv2.LINE_AA)\n",
    "                       \n",
    "    #si hay un triangulo\n",
    "    if foto[0][1]>foto[0][0]:\n",
    "        cv2.putText(frame, 'TRIANGULO'.format(100,100),(240,100),cv2.FONT_HERSHEY_SIMPLEX, 0.75,(0,255,0),1,cv2.LINE_AA)\n",
    "            \n",
    "    \n",
    "    ##muestra imagen\n",
    "    cv2.imshow('camara, presione q para finalizar',frame)\n",
    "    \n",
    "    if cv2.waitKey(1) & 0xFF == ord('q'):  # si se apreta la tecla \"q\" se apaga la camara\n",
    "        break\n",
    "        \n",
    "##apagar camara\n",
    "video.release()\n",
    "cv2.destroyAllWindows()"
   ]
  },
  {
   "cell_type": "markdown",
   "id": "d28123f2-a5f2-4e65-82f7-94aba76eade2",
   "metadata": {
    "tags": []
   },
   "source": [
    "# Conclusión\n",
    "Las CNN tienen un buen desempeño dependiendo de la cantidad de imagenes del dataset y de la cantidad de elementos a clasificar. En el caso de esta tarea se llego a una presición del 100% principalmente al motivo de que el data set resulto ser suficiente para solo clasificar la ausencia o no de un triangulo. En el caso de que se requiera clasificar mas elementos seria necesario aumentar la cantidad de imagenes y ajustar la estructura de la CNN."
   ]
  }
 ],
 "metadata": {
  "kernelspec": {
   "display_name": "Python 3",
   "language": "python",
   "name": "python3"
  },
  "language_info": {
   "codemirror_mode": {
    "name": "ipython",
    "version": 3
   },
   "file_extension": ".py",
   "mimetype": "text/x-python",
   "name": "python",
   "nbconvert_exporter": "python",
   "pygments_lexer": "ipython3",
   "version": "3.8.8"
  }
 },
 "nbformat": 4,
 "nbformat_minor": 5
}
